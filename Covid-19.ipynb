{
 "cells": [
  {
   "cell_type": "markdown",
   "metadata": {},
   "source": [
    "### This notebook tracks the spread of the novel coronavirus, also known as SARS-CoV-2. It is a contagious respiratory virus that first started in Wuhan in December 2019. On 2/11/2020,the disease is officially named COVID-19 by the World Health Organization."
   ]
  },
  {
   "cell_type": "markdown",
   "metadata": {},
   "source": [
    "# Exaploratory Data Analysis Begginer"
   ]
  },
  {
   "cell_type": "code",
   "execution_count": 97,
   "metadata": {},
   "outputs": [
    {
     "name": "stdout",
     "output_type": "stream",
     "text": [
      "(11341, 8)\n"
     ]
    }
   ],
   "source": [
    "import pandas as pd\n",
    "df = pd.read_csv(\"covid_19_data .csv\")\n",
    "print(df.shape)"
   ]
  },
  {
   "cell_type": "code",
   "execution_count": 98,
   "metadata": {},
   "outputs": [],
   "source": [
    "import seaborn as sns\n",
    "import matplotlib.pyplot as plt\n",
    "%matplotlib inline"
   ]
  },
  {
   "cell_type": "code",
   "execution_count": 99,
   "metadata": {},
   "outputs": [],
   "source": [
    "# droping duplicate value along entire datastet\n",
    "df.drop_duplicates(inplace =True,keep = \"first\")"
   ]
  },
  {
   "cell_type": "code",
   "execution_count": 100,
   "metadata": {},
   "outputs": [],
   "source": [
    "df.columns = [\"sno\",\"firstupdate\",\"state\",\"country\",\"lastupdate\",\"confirmed\",\"deaths\",\"recovered\"]\n",
    "df[[\"confirmed\",\"deaths\",\"recovered\"]] = df[[\"confirmed\",\"deaths\",\"recovered\"]].astype(int)"
   ]
  },
  {
   "cell_type": "code",
   "execution_count": 101,
   "metadata": {},
   "outputs": [
    {
     "name": "stdout",
     "output_type": "stream",
     "text": [
      "Starting From :  1/22/2020 17:00\n",
      "Till Now      :  2020-03-23 23:23:20\n",
      "This dataset as Approx 80 days of record world wide\n"
     ]
    }
   ],
   "source": [
    "### Let's see how many days recoreds this dataser has \n",
    "print(\"Starting From : \",df.lastupdate.min())\n",
    "print(\"Till Now      : \",df.lastupdate.max())\n",
    "print(\"This dataset as Approx 80 days of record world wide\")"
   ]
  },
  {
   "cell_type": "code",
   "execution_count": 102,
   "metadata": {},
   "outputs": [
    {
     "name": "stdout",
     "output_type": "stream",
     "text": [
      "sno               0\n",
      "firstupdate       0\n",
      "state          3595\n",
      "country           0\n",
      "lastupdate        0\n",
      "confirmed         0\n",
      "deaths            0\n",
      "recovered         0\n",
      "dtype: int64\n",
      "State feature has 3595 missing values\n"
     ]
    },
    {
     "data": {
      "image/png": "[encoded data removed]",
      "text/plain": [
       "<Figure size 432x288 with 2 Axes>"
      ]
     },
     "metadata": {
      "needs_background": "light"
     },
     "output_type": "display_data"
    }
   ],
   "source": [
    "print(df.isnull().sum())\n",
    "sns.heatmap(df.isnull(),yticklabels = False)\n",
    "print(\"State feature has 3595 missing values\")"
   ]
  },
  {
   "cell_type": "code",
   "execution_count": 103,
   "metadata": {},
   "outputs": [],
   "source": [
    "df.country = [i.lower() for i in df.country]\n",
    "#df.country.unique()\n",
    "df.country = df.country.replace(\"mainland china\",\"china\")"
   ]
  },
  {
   "cell_type": "code",
   "execution_count": 104,
   "metadata": {},
   "outputs": [],
   "source": [
    "df.state.fillna(\"unknown\",inplace = True,axis = 0)\n"
   ]
  },
  {
   "cell_type": "markdown",
   "metadata": {},
   "source": [
    "##### Let's see which country got highest death rate"
   ]
  },
  {
   "cell_type": "code",
   "execution_count": 105,
   "metadata": {},
   "outputs": [],
   "source": [
    "#df.head()"
   ]
  },
  {
   "cell_type": "code",
   "execution_count": 106,
   "metadata": {},
   "outputs": [
    {
     "data": {
      "text/html": [
       "<div>\n",
       "<style scoped>\n",
       "    .dataframe tbody tr th:only-of-type {\n",
       "        vertical-align: middle;\n",
       "    }\n",
       "\n",
       "    .dataframe tbody tr th {\n",
       "        vertical-align: top;\n",
       "    }\n",
       "\n",
       "    .dataframe thead th {\n",
       "        text-align: right;\n",
       "    }\n",
       "</style>\n",
       "<table border=\"1\" class=\"dataframe\">\n",
       "  <thead>\n",
       "    <tr style=\"text-align: right;\">\n",
       "      <th></th>\n",
       "      <th>deaths</th>\n",
       "    </tr>\n",
       "    <tr>\n",
       "      <th>country</th>\n",
       "      <th></th>\n",
       "    </tr>\n",
       "  </thead>\n",
       "  <tbody>\n",
       "    <tr>\n",
       "      <td>italy</td>\n",
       "      <td>6077</td>\n",
       "    </tr>\n",
       "    <tr>\n",
       "      <td>china</td>\n",
       "      <td>3153</td>\n",
       "    </tr>\n",
       "    <tr>\n",
       "      <td>spain</td>\n",
       "      <td>2311</td>\n",
       "    </tr>\n",
       "    <tr>\n",
       "      <td>iran</td>\n",
       "      <td>1812</td>\n",
       "    </tr>\n",
       "    <tr>\n",
       "      <td>france</td>\n",
       "      <td>860</td>\n",
       "    </tr>\n",
       "    <tr>\n",
       "      <td>uk</td>\n",
       "      <td>335</td>\n",
       "    </tr>\n",
       "    <tr>\n",
       "      <td>netherlands</td>\n",
       "      <td>213</td>\n",
       "    </tr>\n",
       "    <tr>\n",
       "      <td>germany</td>\n",
       "      <td>123</td>\n",
       "    </tr>\n",
       "    <tr>\n",
       "      <td>switzerland</td>\n",
       "      <td>120</td>\n",
       "    </tr>\n",
       "    <tr>\n",
       "      <td>us</td>\n",
       "      <td>117</td>\n",
       "    </tr>\n",
       "  </tbody>\n",
       "</table>\n",
       "</div>"
      ],
      "text/plain": [
       "             deaths\n",
       "country            \n",
       "italy          6077\n",
       "china          3153\n",
       "spain          2311\n",
       "iran           1812\n",
       "france          860\n",
       "uk              335\n",
       "netherlands     213\n",
       "germany         123\n",
       "switzerland     120\n",
       "us              117"
      ]
     },
     "execution_count": 106,
     "metadata": {},
     "output_type": "execute_result"
    }
   ],
   "source": [
    "max_death_per_country = pd.DataFrame(df.groupby(\"country\")[\"deaths\"].max())\n",
    "top_ten_death_rates = max_death_per_country.sort_values(by = \"deaths\",ascending = False).head(10)\n",
    "top_ten_death_rates"
   ]
  },
  {
   "cell_type": "markdown",
   "metadata": {},
   "source": [
    "#### 1.insight : \"Italy got highest death rates as compared to other countries\" ,pause and think the cause behind highest death rates in Italy, \n",
    "##### Stay_Safe"
   ]
  },
  {
   "cell_type": "code",
   "execution_count": 107,
   "metadata": {},
   "outputs": [
    {
     "data": {
      "text/plain": [
       "Text(0, 0.5, 'Top ten countries')"
      ]
     },
     "execution_count": 107,
     "metadata": {},
     "output_type": "execute_result"
    },
    {
     "data": {
      "image/png": "[encoded data removed]",
      "text/plain": [
       "<Figure size 432x288 with 1 Axes>"
      ]
     },
     "metadata": {
      "needs_background": "light"
     },
     "output_type": "display_data"
    }
   ],
   "source": [
    "#lets visualize it graphically \n",
    "countries = [\"ITALY\",\"CHINA\",\"SPAIN\",\"IRAN\",\"FRANCE\",\"UK\",\"NETHERLANDS\",\"GERMANY\",\"SWITZERLAND\",\"US\"]\n",
    "sns.barplot(top_ten_death_rates[\"deaths\"],countries,orient = \"h\",alpha = 1)\n",
    "plt.xlabel(\"Maximum death rates \")\n",
    "plt.ylabel(\"Top ten countries\")"
   ]
  },
  {
   "cell_type": "markdown",
   "metadata": {},
   "source": [
    "##### lets see which country got highest confirmed cases  ?"
   ]
  },
  {
   "cell_type": "code",
   "execution_count": 108,
   "metadata": {},
   "outputs": [
    {
     "data": {
      "text/html": [
       "<div>\n",
       "<style scoped>\n",
       "    .dataframe tbody tr th:only-of-type {\n",
       "        vertical-align: middle;\n",
       "    }\n",
       "\n",
       "    .dataframe tbody tr th {\n",
       "        vertical-align: top;\n",
       "    }\n",
       "\n",
       "    .dataframe thead th {\n",
       "        text-align: right;\n",
       "    }\n",
       "</style>\n",
       "<table border=\"1\" class=\"dataframe\">\n",
       "  <thead>\n",
       "    <tr style=\"text-align: right;\">\n",
       "      <th></th>\n",
       "      <th>confirmed</th>\n",
       "    </tr>\n",
       "    <tr>\n",
       "      <th>country</th>\n",
       "      <th></th>\n",
       "    </tr>\n",
       "  </thead>\n",
       "  <tbody>\n",
       "    <tr>\n",
       "      <td>china</td>\n",
       "      <td>67800</td>\n",
       "    </tr>\n",
       "    <tr>\n",
       "      <td>italy</td>\n",
       "      <td>63927</td>\n",
       "    </tr>\n",
       "    <tr>\n",
       "      <td>spain</td>\n",
       "      <td>35136</td>\n",
       "    </tr>\n",
       "    <tr>\n",
       "      <td>germany</td>\n",
       "      <td>29056</td>\n",
       "    </tr>\n",
       "    <tr>\n",
       "      <td>iran</td>\n",
       "      <td>23049</td>\n",
       "    </tr>\n",
       "    <tr>\n",
       "      <td>france</td>\n",
       "      <td>19874</td>\n",
       "    </tr>\n",
       "    <tr>\n",
       "      <td>us</td>\n",
       "      <td>15793</td>\n",
       "    </tr>\n",
       "    <tr>\n",
       "      <td>south korea</td>\n",
       "      <td>8961</td>\n",
       "    </tr>\n",
       "    <tr>\n",
       "      <td>switzerland</td>\n",
       "      <td>8795</td>\n",
       "    </tr>\n",
       "    <tr>\n",
       "      <td>uk</td>\n",
       "      <td>6650</td>\n",
       "    </tr>\n",
       "  </tbody>\n",
       "</table>\n",
       "</div>"
      ],
      "text/plain": [
       "             confirmed\n",
       "country               \n",
       "china            67800\n",
       "italy            63927\n",
       "spain            35136\n",
       "germany          29056\n",
       "iran             23049\n",
       "france           19874\n",
       "us               15793\n",
       "south korea       8961\n",
       "switzerland       8795\n",
       "uk                6650"
      ]
     },
     "execution_count": 108,
     "metadata": {},
     "output_type": "execute_result"
    }
   ],
   "source": [
    "max_confirmedcases_per_country = pd.DataFrame(df.groupby(\"country\")[\"confirmed\"].max())\n",
    "top_ten_confirmed_countries = max_confirmedcases_per_country.sort_values(by = \"confirmed\",ascending = False).head(10)\n",
    "top_ten_confirmed_countries"
   ]
  },
  {
   "cell_type": "markdown",
   "metadata": {},
   "source": [
    "##### 2.insight \"China got highest confirmed cases compared  to other countries\""
   ]
  },
  {
   "cell_type": "code",
   "execution_count": 109,
   "metadata": {},
   "outputs": [
    {
     "data": {
      "text/plain": [
       "Text(0, 0.5, 'Top ten countries')"
      ]
     },
     "execution_count": 109,
     "metadata": {},
     "output_type": "execute_result"
    },
    {
     "data": {
      "image/png": "[encoded data removed]",
      "text/plain": [
       "<Figure size 432x288 with 1 Axes>"
      ]
     },
     "metadata": {
      "needs_background": "light"
     },
     "output_type": "display_data"
    }
   ],
   "source": [
    "#lets visualize it graphically \n",
    "countries = [\"CHINA\",\"ITALY\",\"SPAIN\",\"GERMANY\",\"IRAN\",\"FRANCE\",\"US\",\"SOUTH KOREA\",\"SWITZERLAND\",\"UK\"]\n",
    "sns.barplot(top_ten_confirmed_countries[\"confirmed\"],countries,orient = \"h\",alpha = 1)\n",
    "plt.xlabel(\"Maximum confirmed rates \")\n",
    "plt.ylabel(\"Top ten countries\")"
   ]
  },
  {
   "cell_type": "markdown",
   "metadata": {},
   "source": [
    "#### let's see which country got highest recovery rate  ?"
   ]
  },
  {
   "cell_type": "code",
   "execution_count": 110,
   "metadata": {},
   "outputs": [
    {
     "data": {
      "text/html": [
       "<div>\n",
       "<style scoped>\n",
       "    .dataframe tbody tr th:only-of-type {\n",
       "        vertical-align: middle;\n",
       "    }\n",
       "\n",
       "    .dataframe tbody tr th {\n",
       "        vertical-align: top;\n",
       "    }\n",
       "\n",
       "    .dataframe thead th {\n",
       "        text-align: right;\n",
       "    }\n",
       "</style>\n",
       "<table border=\"1\" class=\"dataframe\">\n",
       "  <thead>\n",
       "    <tr style=\"text-align: right;\">\n",
       "      <th></th>\n",
       "      <th>recovered</th>\n",
       "    </tr>\n",
       "    <tr>\n",
       "      <th>country</th>\n",
       "      <th></th>\n",
       "    </tr>\n",
       "  </thead>\n",
       "  <tbody>\n",
       "    <tr>\n",
       "      <td>china</td>\n",
       "      <td>59882</td>\n",
       "    </tr>\n",
       "    <tr>\n",
       "      <td>iran</td>\n",
       "      <td>8376</td>\n",
       "    </tr>\n",
       "    <tr>\n",
       "      <td>italy</td>\n",
       "      <td>7432</td>\n",
       "    </tr>\n",
       "    <tr>\n",
       "      <td>spain</td>\n",
       "      <td>3355</td>\n",
       "    </tr>\n",
       "    <tr>\n",
       "      <td>south korea</td>\n",
       "      <td>3166</td>\n",
       "    </tr>\n",
       "    <tr>\n",
       "      <td>france</td>\n",
       "      <td>2200</td>\n",
       "    </tr>\n",
       "    <tr>\n",
       "      <td>others</td>\n",
       "      <td>567</td>\n",
       "    </tr>\n",
       "    <tr>\n",
       "      <td>germany</td>\n",
       "      <td>453</td>\n",
       "    </tr>\n",
       "    <tr>\n",
       "      <td>belgium</td>\n",
       "      <td>401</td>\n",
       "    </tr>\n",
       "    <tr>\n",
       "      <td>japan</td>\n",
       "      <td>235</td>\n",
       "    </tr>\n",
       "  </tbody>\n",
       "</table>\n",
       "</div>"
      ],
      "text/plain": [
       "             recovered\n",
       "country               \n",
       "china            59882\n",
       "iran              8376\n",
       "italy             7432\n",
       "spain             3355\n",
       "south korea       3166\n",
       "france            2200\n",
       "others             567\n",
       "germany            453\n",
       "belgium            401\n",
       "japan              235"
      ]
     },
     "execution_count": 110,
     "metadata": {},
     "output_type": "execute_result"
    }
   ],
   "source": [
    "max_recovered_per_country = pd.DataFrame(df.groupby(\"country\")[\"recovered\"].max())\n",
    "top_ten_recovered_countries = max_recovered_per_country.sort_values(by = \"recovered\",ascending = False).head(10)\n",
    "top_ten_recovered_countries"
   ]
  },
  {
   "cell_type": "markdown",
   "metadata": {},
   "source": [
    "##### that's pretty wonder china got Highest recovery rate as well as highest Confirmed Cases ! ,again pause and think that what might be the reason behind  china's highest recovery rate !  \n",
    "###### Stay Safe"
   ]
  },
  {
   "cell_type": "code",
   "execution_count": 111,
   "metadata": {},
   "outputs": [
    {
     "data": {
      "text/plain": [
       "Text(0, 0.5, 'Top ten countries')"
      ]
     },
     "execution_count": 111,
     "metadata": {},
     "output_type": "execute_result"
    },
    {
     "data": {
      "image/png": "[encoded data removed]",
      "text/plain": [
       "<Figure size 432x288 with 1 Axes>"
      ]
     },
     "metadata": {
      "needs_background": "light"
     },
     "output_type": "display_data"
    }
   ],
   "source": [
    "countries  = [\"CHINA\",\"IRAN\",\"ITALY\",\"SPAIN\",\"SOUTH KOREA\",\"FRANCE\",\"OTHERS\",\"GERMANY\",\"BELGIUM\",\"JAPAN\"]\n",
    "sns.barplot(top_ten_recovered_countries[\"recovered\"],countries ,orient = \"h\")\n",
    "plt.xlabel(\"Maximum recovery rates \")\n",
    "plt.ylabel(\"Top ten countries\")"
   ]
  },
  {
   "cell_type": "markdown",
   "metadata": {},
   "source": [
    "## Let's analyze Confirmed case vs Death cases vs Recovery cases,  \"World Wide\" !!!!!\n",
    "(with respect to the dataset )"
   ]
  },
  {
   "cell_type": "code",
   "execution_count": 112,
   "metadata": {},
   "outputs": [
    {
     "name": "stdout",
     "output_type": "stream",
     "text": [
      "Worl wide Cases  :\n"
     ]
    },
    {
     "data": {
      "text/html": [
       "<div>\n",
       "<style scoped>\n",
       "    .dataframe tbody tr th:only-of-type {\n",
       "        vertical-align: middle;\n",
       "    }\n",
       "\n",
       "    .dataframe tbody tr th {\n",
       "        vertical-align: top;\n",
       "    }\n",
       "\n",
       "    .dataframe thead th {\n",
       "        text-align: right;\n",
       "    }\n",
       "</style>\n",
       "<table border=\"1\" class=\"dataframe\">\n",
       "  <thead>\n",
       "    <tr style=\"text-align: right;\">\n",
       "      <th></th>\n",
       "      <th>Cases</th>\n",
       "      <th>Counts</th>\n",
       "    </tr>\n",
       "  </thead>\n",
       "  <tbody>\n",
       "    <tr>\n",
       "      <td>0</td>\n",
       "      <td>confirmed</td>\n",
       "      <td>334441</td>\n",
       "    </tr>\n",
       "    <tr>\n",
       "      <td>1</td>\n",
       "      <td>deaths</td>\n",
       "      <td>15939</td>\n",
       "    </tr>\n",
       "    <tr>\n",
       "      <td>2</td>\n",
       "      <td>recovered</td>\n",
       "      <td>88294</td>\n",
       "    </tr>\n",
       "  </tbody>\n",
       "</table>\n",
       "</div>"
      ],
      "text/plain": [
       "       Cases  Counts\n",
       "0  confirmed  334441\n",
       "1     deaths   15939\n",
       "2  recovered   88294"
      ]
     },
     "execution_count": 112,
     "metadata": {},
     "output_type": "execute_result"
    }
   ],
   "source": [
    "countries_df = df.groupby('country')[['confirmed','deaths','recovered']].max().sum().reset_index()\n",
    "world_wide   = pd.DataFrame(countries_df) \n",
    "world_wide.rename(columns = {\"index\":\"Cases\",0:\"Counts\"},inplace =True)\n",
    "print(\"Worl wide Cases  :\")\n",
    "world_wide"
   ]
  },
  {
   "cell_type": "code",
   "execution_count": 113,
   "metadata": {},
   "outputs": [],
   "source": [
    "# using pie chart for visualiztion of different cases"
   ]
  },
  {
   "cell_type": "code",
   "execution_count": 114,
   "metadata": {},
   "outputs": [
    {
     "data": {
      "image/png": "[encoded data removed]",
      "text/plain": [
       "<Figure size 432x288 with 1 Axes>"
      ]
     },
     "metadata": {},
     "output_type": "display_data"
    }
   ],
   "source": [
    "plt.pie(world_wide[\"Counts\"],labels = world_wide[\"Cases\"],shadow = True,autopct = \"%0.f%%\",explode = [0.1,0.2,0.1],colors = [\"orange\",\"red\",\"Green\"])\n",
    "plt.tight_layout()\n",
    "plt.show()\n"
   ]
  },
  {
   "cell_type": "markdown",
   "metadata": {},
   "source": [
    "##### now let's analayze How many Active Cases are there in World Wide ....! Wondering ? Yes me too !\n"
   ]
  },
  {
   "cell_type": "code",
   "execution_count": 115,
   "metadata": {},
   "outputs": [],
   "source": [
    "#Getting active cases \n",
    "df[\"activecases\"] = df[\"confirmed\"] - (df[\"deaths\"] + df[\"recovered\"])"
   ]
  },
  {
   "cell_type": "code",
   "execution_count": 116,
   "metadata": {},
   "outputs": [
    {
     "data": {
      "text/html": [
       "<div>\n",
       "<style scoped>\n",
       "    .dataframe tbody tr th:only-of-type {\n",
       "        vertical-align: middle;\n",
       "    }\n",
       "\n",
       "    .dataframe tbody tr th {\n",
       "        vertical-align: top;\n",
       "    }\n",
       "\n",
       "    .dataframe thead th {\n",
       "        text-align: right;\n",
       "    }\n",
       "</style>\n",
       "<table border=\"1\" class=\"dataframe\">\n",
       "  <thead>\n",
       "    <tr style=\"text-align: right;\">\n",
       "      <th></th>\n",
       "      <th>sno</th>\n",
       "      <th>firstupdate</th>\n",
       "      <th>state</th>\n",
       "      <th>country</th>\n",
       "      <th>lastupdate</th>\n",
       "      <th>confirmed</th>\n",
       "      <th>deaths</th>\n",
       "      <th>recovered</th>\n",
       "      <th>activecases</th>\n",
       "    </tr>\n",
       "  </thead>\n",
       "  <tbody>\n",
       "    <tr>\n",
       "      <td>0</td>\n",
       "      <td>1</td>\n",
       "      <td>01/22/2020</td>\n",
       "      <td>Anhui</td>\n",
       "      <td>china</td>\n",
       "      <td>1/22/2020 17:00</td>\n",
       "      <td>1</td>\n",
       "      <td>0</td>\n",
       "      <td>0</td>\n",
       "      <td>1</td>\n",
       "    </tr>\n",
       "    <tr>\n",
       "      <td>1</td>\n",
       "      <td>2</td>\n",
       "      <td>01/22/2020</td>\n",
       "      <td>Beijing</td>\n",
       "      <td>china</td>\n",
       "      <td>1/22/2020 17:00</td>\n",
       "      <td>14</td>\n",
       "      <td>0</td>\n",
       "      <td>0</td>\n",
       "      <td>14</td>\n",
       "    </tr>\n",
       "    <tr>\n",
       "      <td>2</td>\n",
       "      <td>3</td>\n",
       "      <td>01/22/2020</td>\n",
       "      <td>Chongqing</td>\n",
       "      <td>china</td>\n",
       "      <td>1/22/2020 17:00</td>\n",
       "      <td>6</td>\n",
       "      <td>0</td>\n",
       "      <td>0</td>\n",
       "      <td>6</td>\n",
       "    </tr>\n",
       "    <tr>\n",
       "      <td>3</td>\n",
       "      <td>4</td>\n",
       "      <td>01/22/2020</td>\n",
       "      <td>Fujian</td>\n",
       "      <td>china</td>\n",
       "      <td>1/22/2020 17:00</td>\n",
       "      <td>1</td>\n",
       "      <td>0</td>\n",
       "      <td>0</td>\n",
       "      <td>1</td>\n",
       "    </tr>\n",
       "    <tr>\n",
       "      <td>4</td>\n",
       "      <td>5</td>\n",
       "      <td>01/22/2020</td>\n",
       "      <td>Gansu</td>\n",
       "      <td>china</td>\n",
       "      <td>1/22/2020 17:00</td>\n",
       "      <td>0</td>\n",
       "      <td>0</td>\n",
       "      <td>0</td>\n",
       "      <td>0</td>\n",
       "    </tr>\n",
       "  </tbody>\n",
       "</table>\n",
       "</div>"
      ],
      "text/plain": [
       "   sno firstupdate      state country       lastupdate  confirmed  deaths  \\\n",
       "0    1  01/22/2020      Anhui   china  1/22/2020 17:00          1       0   \n",
       "1    2  01/22/2020    Beijing   china  1/22/2020 17:00         14       0   \n",
       "2    3  01/22/2020  Chongqing   china  1/22/2020 17:00          6       0   \n",
       "3    4  01/22/2020     Fujian   china  1/22/2020 17:00          1       0   \n",
       "4    5  01/22/2020      Gansu   china  1/22/2020 17:00          0       0   \n",
       "\n",
       "   recovered  activecases  \n",
       "0          0            1  \n",
       "1          0           14  \n",
       "2          0            6  \n",
       "3          0            1  \n",
       "4          0            0  "
      ]
     },
     "execution_count": 116,
     "metadata": {},
     "output_type": "execute_result"
    }
   ],
   "source": [
    "df.head()"
   ]
  },
  {
   "cell_type": "code",
   "execution_count": 117,
   "metadata": {},
   "outputs": [
    {
     "name": "stdout",
     "output_type": "stream",
     "text": [
      "Total Number of world_wide_active_cases are : 278874\n"
     ]
    }
   ],
   "source": [
    "world_wide_active_cases = df.groupby([\"country\"])[\"activecases\"].max().sum()\n",
    "print(\"Total Number of world_wide_active_cases are :\",world_wide_active_cases)\n",
    "world_wide_active_case = pd.Series(world_wide_active_cases)"
   ]
  },
  {
   "cell_type": "markdown",
   "metadata": {},
   "source": [
    "##### let's Understand Visually"
   ]
  },
  {
   "cell_type": "code",
   "execution_count": 118,
   "metadata": {},
   "outputs": [],
   "source": [
    "world_wide = world_wide.append({\"Cases\":\"active\",\"Counts\":278874},ignore_index = True)"
   ]
  },
  {
   "cell_type": "markdown",
   "metadata": {},
   "source": [
    "####   3  insight :  Still we have 39% of active cases world wide  \n",
    "###### that's a serious issue !\n",
    "again please stay Safe"
   ]
  },
  {
   "cell_type": "code",
   "execution_count": 119,
   "metadata": {},
   "outputs": [
    {
     "data": {
      "image/png": "[encoded data removed]",
      "text/plain": [
       "<Figure size 432x288 with 1 Axes>"
      ]
     },
     "metadata": {},
     "output_type": "display_data"
    }
   ],
   "source": [
    "plt.pie(world_wide[\"Counts\"],labels = world_wide[\"Cases\"],shadow = True,autopct = \"%0.f%%\",explode = [0,0,0,0.2])\n",
    "plt.tight_layout()\n",
    "plt.show()"
   ]
  },
  {
   "cell_type": "markdown",
   "metadata": {},
   "source": [
    "## Enough with worldwide   let's analyze our country  \"  INDIA \""
   ]
  },
  {
   "cell_type": "code",
   "execution_count": 120,
   "metadata": {},
   "outputs": [
    {
     "data": {
      "text/plain": [
       "(54, 9)"
      ]
     },
     "execution_count": 120,
     "metadata": {},
     "output_type": "execute_result"
    }
   ],
   "source": [
    "idf = df[df[\"country\"]==\"india\"].iloc[:,:]\n",
    "idf.shape"
   ]
  },
  {
   "cell_type": "code",
   "execution_count": 121,
   "metadata": {},
   "outputs": [],
   "source": [
    "idf.head()\n",
    "idf[[\"confirmed\",\"deaths\",\"recovered\",\"activecases\"]] = idf[[\"confirmed\",\"deaths\",\"recovered\",\"activecases\"]].astype(int)"
   ]
  },
  {
   "cell_type": "code",
   "execution_count": 122,
   "metadata": {},
   "outputs": [
    {
     "name": "stdout",
     "output_type": "stream",
     "text": [
      "Total deaths    in india : 10\n",
      "Total confirmed in india : 499\n",
      "Total recovered in india : 34\n",
      "Total active    in india : 455\n"
     ]
    }
   ],
   "source": [
    "tot_deaths  = idf.deaths.max()\n",
    "tot_confirm = idf.confirmed.max()\n",
    "tot_recover = idf.recovered.max()\n",
    "tot_active  = idf.activecases.max()\n",
    "print(\"Total deaths    in india :\",tot_deaths)\n",
    "print(\"Total confirmed in india :\",tot_confirm)\n",
    "print(\"Total recovered in india :\",tot_recover)\n",
    "print(\"Total active    in india :\",tot_active)"
   ]
  },
  {
   "cell_type": "markdown",
   "metadata": {},
   "source": [
    "# let's visual Using Bar Graph"
   ]
  },
  {
   "cell_type": "markdown",
   "metadata": {},
   "source": [
    "#### 4.insight  : India has 455 active cases !!!! , \n",
    "please stay in home ,be  safe and  let other's to live safely :)"
   ]
  },
  {
   "cell_type": "code",
   "execution_count": 123,
   "metadata": {},
   "outputs": [
    {
     "data": {
      "text/plain": [
       "Text(0, 0.5, 'Number of People')"
      ]
     },
     "execution_count": 123,
     "metadata": {},
     "output_type": "execute_result"
    },
    {
     "data": {
      "image/png": "[encoded data removed]",
      "text/plain": [
       "<Figure size 432x288 with 1 Axes>"
      ]
     },
     "metadata": {
      "needs_background": "light"
     },
     "output_type": "display_data"
    }
   ],
   "source": [
    "sns.barplot([10,499,34,455],[\"Death\",\"Confirmed\",\"recovered\",\"active\"],orient = \"h\")\n",
    "plt.xlabel(\"Cases\")\n",
    "plt.ylabel(\"Number of People\")"
   ]
  },
  {
   "cell_type": "markdown",
   "metadata": {},
   "source": [
    "## Thank You ,To Be continued !"
   ]
  },
  {
   "cell_type": "code",
   "execution_count": null,
   "metadata": {},
   "outputs": [],
   "source": []
  }
 ],
 "metadata": {
  "kernelspec": {
   "display_name": "Python 3",
   "language": "python",
   "name": "python3"
  },
  "language_info": {
   "codemirror_mode": {
    "name": "ipython",
    "version": 3
   },
   "file_extension": ".py",
   "mimetype": "text/x-python",
   "name": "python",
   "nbconvert_exporter": "python",
   "pygments_lexer": "ipython3",
   "version": "3.7.4"
  }
 },
 "nbformat": 4,
 "nbformat_minor": 2
}
